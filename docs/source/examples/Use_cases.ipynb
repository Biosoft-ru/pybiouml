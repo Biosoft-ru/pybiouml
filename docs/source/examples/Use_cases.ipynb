{
 "cells": [
  {
   "cell_type": "markdown",
   "id": "56b2a181",
   "metadata": {},
   "source": [
    "# Use cases"
   ]
  },
  {
   "cell_type": "markdown",
   "id": "82c5eb84",
   "metadata": {},
   "source": [
    "## Itroduction\n",
    "\n",
    "The pybioum llibrary provides a list of methods to interact with [BioUML](https://www.biouml.org/) server from within python. BioUML is an open source integrated Java platform for analysis of data from omics sciences research and other advanced computational biology, for building the virtual cell and the virtual physiological human. It spans a comprehensive range of capabilities, including access to databases with experimental data, tools for formalized description of biological systems structure and functioning, as well as tools for their visualization, simulation, parametersfitting and analyses."
   ]
  },
  {
   "cell_type": "markdown",
   "id": "4ef2e109",
   "metadata": {},
   "source": [
    "## Getting started"
   ]
  },
  {
   "cell_type": "markdown",
   "id": "c028a58f",
   "metadata": {},
   "source": [
    "### ConnectingtoBioUMLserver\n",
    "\n",
    "The first thing youneed to do is load thepackage and log into the BioUML server.As an example we will connect to the free public [BioUML server](https://ict.biouml.org)."
   ]
  },
  {
   "cell_type": "markdown",
   "id": "4e63a946",
   "metadata": {},
   "source": [
    "Library instalation throuth pip:  \n",
    "```bash\n",
    "pip install pybiouml\n",
    "```"
   ]
  },
  {
   "cell_type": "markdown",
   "id": "8cab15a8",
   "metadata": {},
   "source": [
    "Nex step will be library importing and making a object of your future connaction:"
   ]
  },
  {
   "cell_type": "code",
   "execution_count": 1,
   "id": "6bf2d273",
   "metadata": {},
   "outputs": [],
   "source": [
    "from pybiouml import pybiouml\n"
   ]
  },
  {
   "cell_type": "markdown",
   "id": "3915c4c1",
   "metadata": {},
   "source": [
    "After importing library we create an object using PyBiouml class in library:"
   ]
  },
  {
   "cell_type": "code",
   "execution_count": 2,
   "id": "8e3c48da",
   "metadata": {},
   "outputs": [],
   "source": [
    "my_work = pybiouml.PyBiouml()\n"
   ]
  },
  {
   "cell_type": "markdown",
   "id": "525703a5",
   "metadata": {},
   "source": [
    "Now we are ready to work. At first, we need to loging into server. It can be done using `login` method of early created class  ```my_work```.  \n",
    "The `login` also accepts `user` and `password`, but we leave them empty in the example above for anonymous login. Alternatively you can install BioUML on your local computer and connect to it in the same way:  \n",
    "```python\n",
    "my_work.login('localhost:8080')\n",
    "```\n",
    "See [BioUML installation](http://wiki.biouml.org/index.php/BioUML_server_installation) for details on BioUML server installation.\n"
   ]
  },
  {
   "cell_type": "code",
   "execution_count": 3,
   "id": "683570a0",
   "metadata": {},
   "outputs": [],
   "source": [
    "my_work.login(url='https://ict.biouml.org')"
   ]
  },
  {
   "cell_type": "markdown",
   "id": "a40ffd8b",
   "metadata": {},
   "source": [
    "### Querying BioUML repository\n",
    "\n",
    "The BioUML repository (or simply repository) is the central BioUML data storage place. Basically, all the data you work with in BioUML is stored in the repository. The repository has a hierarchical structure similar to file systems. On the top level the repository consists of several root folders. The most common ones are:  \n",
    "- `databases` contains preinstalled or user-defined modules. \n",
    "- `data` contains user projects and public examples.\n",
    "\n",
    "The `ls`  lists the contents of given folder in repository. The list of databases available in BioUML server:"
   ]
  },
  {
   "cell_type": "code",
   "execution_count": 5,
   "id": "4b2a1297",
   "metadata": {},
   "outputs": [
    {
     "data": {
      "text/html": [
       "<div>\n",
       "<style scoped>\n",
       "    .dataframe tbody tr th:only-of-type {\n",
       "        vertical-align: middle;\n",
       "    }\n",
       "\n",
       "    .dataframe tbody tr th {\n",
       "        vertical-align: top;\n",
       "    }\n",
       "\n",
       "    .dataframe thead th {\n",
       "        text-align: right;\n",
       "    }\n",
       "</style>\n",
       "<table border=\"1\" class=\"dataframe\">\n",
       "  <thead>\n",
       "    <tr style=\"text-align: right;\">\n",
       "      <th></th>\n",
       "      <th>name</th>\n",
       "      <th>hasChildren</th>\n",
       "      <th>class</th>\n",
       "    </tr>\n",
       "  </thead>\n",
       "  <tbody>\n",
       "    <tr>\n",
       "      <th>0</th>\n",
       "      <td>Biomodels</td>\n",
       "      <td>True</td>\n",
       "      <td>0</td>\n",
       "    </tr>\n",
       "    <tr>\n",
       "      <th>1</th>\n",
       "      <td>EnsemblArabidopsisThaliana91</td>\n",
       "      <td>True</td>\n",
       "      <td>1</td>\n",
       "    </tr>\n",
       "    <tr>\n",
       "      <th>2</th>\n",
       "      <td>EnsemblFruitfly91</td>\n",
       "      <td>True</td>\n",
       "      <td>1</td>\n",
       "    </tr>\n",
       "    <tr>\n",
       "      <th>3</th>\n",
       "      <td>EnsemblHuman85_38</td>\n",
       "      <td>True</td>\n",
       "      <td>1</td>\n",
       "    </tr>\n",
       "    <tr>\n",
       "      <th>4</th>\n",
       "      <td>EnsemblMouse81_38</td>\n",
       "      <td>True</td>\n",
       "      <td>1</td>\n",
       "    </tr>\n",
       "    <tr>\n",
       "      <th>5</th>\n",
       "      <td>EnsemblNematoda91</td>\n",
       "      <td>True</td>\n",
       "      <td>1</td>\n",
       "    </tr>\n",
       "    <tr>\n",
       "      <th>6</th>\n",
       "      <td>EnsemblRat91</td>\n",
       "      <td>True</td>\n",
       "      <td>1</td>\n",
       "    </tr>\n",
       "    <tr>\n",
       "      <th>7</th>\n",
       "      <td>EnsemblSaccharomycesCerevisiae91</td>\n",
       "      <td>True</td>\n",
       "      <td>1</td>\n",
       "    </tr>\n",
       "    <tr>\n",
       "      <th>8</th>\n",
       "      <td>EnsemblSchizosaccharomycesPombe91</td>\n",
       "      <td>True</td>\n",
       "      <td>1</td>\n",
       "    </tr>\n",
       "    <tr>\n",
       "      <th>9</th>\n",
       "      <td>EnsemblZebrafish92</td>\n",
       "      <td>True</td>\n",
       "      <td>1</td>\n",
       "    </tr>\n",
       "    <tr>\n",
       "      <th>10</th>\n",
       "      <td>GTRD</td>\n",
       "      <td>True</td>\n",
       "      <td>1</td>\n",
       "    </tr>\n",
       "    <tr>\n",
       "      <th>11</th>\n",
       "      <td>HOCOMOCO v11</td>\n",
       "      <td>True</td>\n",
       "      <td>0</td>\n",
       "    </tr>\n",
       "    <tr>\n",
       "      <th>12</th>\n",
       "      <td>PantherDB 14</td>\n",
       "      <td>True</td>\n",
       "      <td>0</td>\n",
       "    </tr>\n",
       "    <tr>\n",
       "      <th>13</th>\n",
       "      <td>Reactome Icons</td>\n",
       "      <td>True</td>\n",
       "      <td>2</td>\n",
       "    </tr>\n",
       "    <tr>\n",
       "      <th>14</th>\n",
       "      <td>Reactome63</td>\n",
       "      <td>True</td>\n",
       "      <td>1</td>\n",
       "    </tr>\n",
       "    <tr>\n",
       "      <th>15</th>\n",
       "      <td>Tests SBML 3.3.0</td>\n",
       "      <td>True</td>\n",
       "      <td>0</td>\n",
       "    </tr>\n",
       "    <tr>\n",
       "      <th>16</th>\n",
       "      <td>Tests Stochastic</td>\n",
       "      <td>True</td>\n",
       "      <td>0</td>\n",
       "    </tr>\n",
       "    <tr>\n",
       "      <th>17</th>\n",
       "      <td>Virtual Cell</td>\n",
       "      <td>True</td>\n",
       "      <td>0</td>\n",
       "    </tr>\n",
       "    <tr>\n",
       "      <th>18</th>\n",
       "      <td>Virtual Human</td>\n",
       "      <td>True</td>\n",
       "      <td>0</td>\n",
       "    </tr>\n",
       "  </tbody>\n",
       "</table>\n",
       "</div>"
      ],
      "text/plain": [
       "                                 name  hasChildren  class\n",
       "0                           Biomodels         True      0\n",
       "1        EnsemblArabidopsisThaliana91         True      1\n",
       "2                   EnsemblFruitfly91         True      1\n",
       "3                   EnsemblHuman85_38         True      1\n",
       "4                   EnsemblMouse81_38         True      1\n",
       "5                   EnsemblNematoda91         True      1\n",
       "6                        EnsemblRat91         True      1\n",
       "7    EnsemblSaccharomycesCerevisiae91         True      1\n",
       "8   EnsemblSchizosaccharomycesPombe91         True      1\n",
       "9                  EnsemblZebrafish92         True      1\n",
       "10                               GTRD         True      1\n",
       "11                       HOCOMOCO v11         True      0\n",
       "12                       PantherDB 14         True      0\n",
       "13                     Reactome Icons         True      2\n",
       "14                         Reactome63         True      1\n",
       "15                   Tests SBML 3.3.0         True      0\n",
       "16                   Tests Stochastic         True      0\n",
       "17                       Virtual Cell         True      0\n",
       "18                      Virtual Human         True      0"
      ]
     },
     "execution_count": 5,
     "metadata": {},
     "output_type": "execute_result"
    }
   ],
   "source": [
    "import requests\n",
    "my_work.ls('databases')"
   ]
  },
  {
   "cell_type": "markdown",
   "id": "a0d35069",
   "metadata": {},
   "source": [
    "The list of data elements available in BioUML examples folder:"
   ]
  },
  {
   "cell_type": "code",
   "execution_count": 6,
   "id": "cf79d87e",
   "metadata": {},
   "outputs": [
    {
     "data": {
      "text/html": [
       "<div>\n",
       "<style scoped>\n",
       "    .dataframe tbody tr th:only-of-type {\n",
       "        vertical-align: middle;\n",
       "    }\n",
       "\n",
       "    .dataframe tbody tr th {\n",
       "        vertical-align: top;\n",
       "    }\n",
       "\n",
       "    .dataframe thead th {\n",
       "        text-align: right;\n",
       "    }\n",
       "</style>\n",
       "<table border=\"1\" class=\"dataframe\">\n",
       "  <thead>\n",
       "    <tr style=\"text-align: right;\">\n",
       "      <th></th>\n",
       "      <th>name</th>\n",
       "      <th>hasChildren</th>\n",
       "      <th>class</th>\n",
       "    </tr>\n",
       "  </thead>\n",
       "  <tbody>\n",
       "    <tr>\n",
       "      <th>0</th>\n",
       "      <td>exp_data_1</td>\n",
       "      <td>False</td>\n",
       "      <td>0</td>\n",
       "    </tr>\n",
       "    <tr>\n",
       "      <th>1</th>\n",
       "      <td>exp_data_2</td>\n",
       "      <td>False</td>\n",
       "      <td>0</td>\n",
       "    </tr>\n",
       "    <tr>\n",
       "      <th>2</th>\n",
       "      <td>exp_data_3</td>\n",
       "      <td>False</td>\n",
       "      <td>0</td>\n",
       "    </tr>\n",
       "  </tbody>\n",
       "</table>\n",
       "</div>"
      ],
      "text/plain": [
       "         name  hasChildren  class\n",
       "0  exp_data_1        False      0\n",
       "1  exp_data_2        False      0\n",
       "2  exp_data_3        False      0"
      ]
     },
     "execution_count": 6,
     "metadata": {},
     "output_type": "execute_result"
    }
   ],
   "source": [
    "my_work.ls('data/Examples/Optimization/Data/Experiments')"
   ]
  },
  {
   "cell_type": "markdown",
   "id": "1146803f",
   "metadata": {},
   "source": [
    "The pybiouml `get` method fetches a table from BioUML repository as `pandas.DataFrame`:"
   ]
  },
  {
   "cell_type": "code",
   "execution_count": 7,
   "id": "11f60a24",
   "metadata": {},
   "outputs": [
    {
     "data": {
      "text/html": [
       "<div>\n",
       "<style scoped>\n",
       "    .dataframe tbody tr th:only-of-type {\n",
       "        vertical-align: middle;\n",
       "    }\n",
       "\n",
       "    .dataframe tbody tr th {\n",
       "        vertical-align: top;\n",
       "    }\n",
       "\n",
       "    .dataframe thead th {\n",
       "        text-align: right;\n",
       "    }\n",
       "</style>\n",
       "<table border=\"1\" class=\"dataframe\">\n",
       "  <thead>\n",
       "    <tr style=\"text-align: right;\">\n",
       "      <th></th>\n",
       "      <th>time</th>\n",
       "      <th>p43p41</th>\n",
       "      <th>pro8</th>\n",
       "      <th>casp8</th>\n",
       "    </tr>\n",
       "  </thead>\n",
       "  <tbody>\n",
       "    <tr>\n",
       "      <th>0</th>\n",
       "      <td>0</td>\n",
       "      <td>0.057725</td>\n",
       "      <td>59.963164</td>\n",
       "      <td>0</td>\n",
       "    </tr>\n",
       "    <tr>\n",
       "      <th>1</th>\n",
       "      <td>10</td>\n",
       "      <td>0.268144</td>\n",
       "      <td>57.564637</td>\n",
       "      <td>0.041075</td>\n",
       "    </tr>\n",
       "    <tr>\n",
       "      <th>2</th>\n",
       "      <td>20</td>\n",
       "      <td>4.760481</td>\n",
       "      <td>58.589814</td>\n",
       "      <td>0.316117</td>\n",
       "    </tr>\n",
       "    <tr>\n",
       "      <th>3</th>\n",
       "      <td>30</td>\n",
       "      <td>8.251935</td>\n",
       "      <td>59.421561</td>\n",
       "      <td>1.397356</td>\n",
       "    </tr>\n",
       "    <tr>\n",
       "      <th>4</th>\n",
       "      <td>45</td>\n",
       "      <td>16.144483</td>\n",
       "      <td>48.189751</td>\n",
       "      <td>3.520371</td>\n",
       "    </tr>\n",
       "  </tbody>\n",
       "</table>\n",
       "</div>"
      ],
      "text/plain": [
       "  time     p43p41       pro8     casp8\n",
       "0    0   0.057725  59.963164         0\n",
       "1   10   0.268144  57.564637  0.041075\n",
       "2   20   4.760481  58.589814  0.316117\n",
       "3   30   8.251935  59.421561  1.397356\n",
       "4   45  16.144483  48.189751  3.520371"
      ]
     },
     "execution_count": 7,
     "metadata": {},
     "output_type": "execute_result"
    }
   ],
   "source": [
    "exp_1 = my_work.get('data/Examples/Optimization/Data/Experiments/exp_data_1')\n",
    "exp_1.head()"
   ]
  },
  {
   "cell_type": "markdown",
   "id": "98f34619",
   "metadata": {},
   "source": [
    "This function allows to fetch not only true BioUML tables,but any data elements which have tabular representation, including profiles, user uploaded tracks and soon.  \n",
    "To store `pandas.DataFrame` as a table into BioUML repository use `put` method:"
   ]
  },
  {
   "cell_type": "code",
   "execution_count": 8,
   "id": "51e5b0f1",
   "metadata": {},
   "outputs": [
    {
     "data": {
      "text/html": [
       "<div>\n",
       "<style scoped>\n",
       "    .dataframe tbody tr th:only-of-type {\n",
       "        vertical-align: middle;\n",
       "    }\n",
       "\n",
       "    .dataframe tbody tr th {\n",
       "        vertical-align: top;\n",
       "    }\n",
       "\n",
       "    .dataframe thead th {\n",
       "        text-align: right;\n",
       "    }\n",
       "</style>\n",
       "<table border=\"1\" class=\"dataframe\">\n",
       "  <thead>\n",
       "    <tr style=\"text-align: right;\">\n",
       "      <th></th>\n",
       "      <th>time</th>\n",
       "      <th>p43p41</th>\n",
       "      <th>pro8</th>\n",
       "      <th>casp8</th>\n",
       "      <th>sum_column</th>\n",
       "    </tr>\n",
       "  </thead>\n",
       "  <tbody>\n",
       "    <tr>\n",
       "      <th>0</th>\n",
       "      <td>0</td>\n",
       "      <td>0.057725</td>\n",
       "      <td>59.963164</td>\n",
       "      <td>0</td>\n",
       "      <td>59.963164</td>\n",
       "    </tr>\n",
       "    <tr>\n",
       "      <th>1</th>\n",
       "      <td>10</td>\n",
       "      <td>0.268144</td>\n",
       "      <td>57.564637</td>\n",
       "      <td>0.041075</td>\n",
       "      <td>57.605712</td>\n",
       "    </tr>\n",
       "    <tr>\n",
       "      <th>2</th>\n",
       "      <td>20</td>\n",
       "      <td>4.760481</td>\n",
       "      <td>58.589814</td>\n",
       "      <td>0.316117</td>\n",
       "      <td>58.905930</td>\n",
       "    </tr>\n",
       "    <tr>\n",
       "      <th>3</th>\n",
       "      <td>30</td>\n",
       "      <td>8.251935</td>\n",
       "      <td>59.421561</td>\n",
       "      <td>1.397356</td>\n",
       "      <td>60.818917</td>\n",
       "    </tr>\n",
       "    <tr>\n",
       "      <th>4</th>\n",
       "      <td>45</td>\n",
       "      <td>16.144483</td>\n",
       "      <td>48.189751</td>\n",
       "      <td>3.520371</td>\n",
       "      <td>51.710122</td>\n",
       "    </tr>\n",
       "    <tr>\n",
       "      <th>5</th>\n",
       "      <td>60</td>\n",
       "      <td>17.020606</td>\n",
       "      <td>38.950266</td>\n",
       "      <td>3.947229</td>\n",
       "      <td>42.897495</td>\n",
       "    </tr>\n",
       "    <tr>\n",
       "      <th>6</th>\n",
       "      <td>90</td>\n",
       "      <td>15.269292</td>\n",
       "      <td>23.501692</td>\n",
       "      <td>4.871417</td>\n",
       "      <td>28.373108</td>\n",
       "    </tr>\n",
       "    <tr>\n",
       "      <th>7</th>\n",
       "      <td>120</td>\n",
       "      <td>12.53013</td>\n",
       "      <td>13.127419</td>\n",
       "      <td>4.87786</td>\n",
       "      <td>18.005280</td>\n",
       "    </tr>\n",
       "    <tr>\n",
       "      <th>8</th>\n",
       "      <td>150</td>\n",
       "      <td>10.334704</td>\n",
       "      <td>10.703102</td>\n",
       "      <td>4.228311</td>\n",
       "      <td>14.931413</td>\n",
       "    </tr>\n",
       "  </tbody>\n",
       "</table>\n",
       "</div>"
      ],
      "text/plain": [
       "  time     p43p41       pro8     casp8  sum_column\n",
       "0    0   0.057725  59.963164         0   59.963164\n",
       "1   10   0.268144  57.564637  0.041075   57.605712\n",
       "2   20   4.760481  58.589814  0.316117   58.905930\n",
       "3   30   8.251935  59.421561  1.397356   60.818917\n",
       "4   45  16.144483  48.189751  3.520371   51.710122\n",
       "5   60  17.020606  38.950266  3.947229   42.897495\n",
       "6   90  15.269292  23.501692  4.871417   28.373108\n",
       "7  120   12.53013  13.127419   4.87786   18.005280\n",
       "8  150  10.334704  10.703102  4.228311   14.931413"
      ]
     },
     "execution_count": 8,
     "metadata": {},
     "output_type": "execute_result"
    }
   ],
   "source": [
    "exp_1['sum_column'] = exp_1[['pro8', 'casp8']].sum(axis=1)\n",
    "exp_1"
   ]
  },
  {
   "cell_type": "code",
   "execution_count": 14,
   "id": "7dafe3ab",
   "metadata": {},
   "outputs": [],
   "source": [
    "my_work.put('data/Collaboration/Demo/Data/pybiouml_test/exp_1_pybiouml', exp_1)"
   ]
  },
  {
   "cell_type": "code",
   "execution_count": 15,
   "id": "72c37ae3",
   "metadata": {},
   "outputs": [
    {
     "data": {
      "text/html": [
       "<div>\n",
       "<style scoped>\n",
       "    .dataframe tbody tr th:only-of-type {\n",
       "        vertical-align: middle;\n",
       "    }\n",
       "\n",
       "    .dataframe tbody tr th {\n",
       "        vertical-align: top;\n",
       "    }\n",
       "\n",
       "    .dataframe thead th {\n",
       "        text-align: right;\n",
       "    }\n",
       "</style>\n",
       "<table border=\"1\" class=\"dataframe\">\n",
       "  <thead>\n",
       "    <tr style=\"text-align: right;\">\n",
       "      <th></th>\n",
       "      <th>name</th>\n",
       "      <th>hasChildren</th>\n",
       "      <th>class</th>\n",
       "    </tr>\n",
       "  </thead>\n",
       "  <tbody>\n",
       "    <tr>\n",
       "      <th>0</th>\n",
       "      <td>exp_1_pybiouml</td>\n",
       "      <td>False</td>\n",
       "      <td>0</td>\n",
       "    </tr>\n",
       "  </tbody>\n",
       "</table>\n",
       "</div>"
      ],
      "text/plain": [
       "             name  hasChildren  class\n",
       "0  exp_1_pybiouml        False      0"
      ]
     },
     "execution_count": 15,
     "metadata": {},
     "output_type": "execute_result"
    }
   ],
   "source": [
    "my_work.ls('data/Collaboration/Demo/Data/pybiouml_test')"
   ]
  },
  {
   "cell_type": "markdown",
   "id": "e420e440",
   "metadata": {},
   "source": [
    "### Using BioUML analyses"
   ]
  },
  {
   "cell_type": "markdown",
   "id": "b6f3e919",
   "metadata": {},
   "source": [
    "BioUML provides a set of analyses organized in groups.The list of analyses available in the currents server can be fetched with `analysis_list` method."
   ]
  },
  {
   "cell_type": "code",
   "execution_count": 16,
   "id": "b57fd075",
   "metadata": {
    "scrolled": true
   },
   "outputs": [
    {
     "data": {
      "text/html": [
       "<div>\n",
       "<style scoped>\n",
       "    .dataframe tbody tr th:only-of-type {\n",
       "        vertical-align: middle;\n",
       "    }\n",
       "\n",
       "    .dataframe tbody tr th {\n",
       "        vertical-align: top;\n",
       "    }\n",
       "\n",
       "    .dataframe thead th {\n",
       "        text-align: right;\n",
       "    }\n",
       "</style>\n",
       "<table border=\"1\" class=\"dataframe\">\n",
       "  <thead>\n",
       "    <tr style=\"text-align: right;\">\n",
       "      <th></th>\n",
       "      <th>Group</th>\n",
       "      <th>Name</th>\n",
       "    </tr>\n",
       "  </thead>\n",
       "  <tbody>\n",
       "    <tr>\n",
       "      <th>0</th>\n",
       "      <td>ChIP-seq</td>\n",
       "      <td>ChIP-seq Quality control analysis</td>\n",
       "    </tr>\n",
       "    <tr>\n",
       "      <th>1</th>\n",
       "      <td>ChIP-seq</td>\n",
       "      <td>ChIP-seq peak profile</td>\n",
       "    </tr>\n",
       "    <tr>\n",
       "      <th>2</th>\n",
       "      <td>ChIP-seq</td>\n",
       "      <td>Quality control analysis</td>\n",
       "    </tr>\n",
       "    <tr>\n",
       "      <th>3</th>\n",
       "      <td>ChIP-seq</td>\n",
       "      <td>Report generator for quality control analysis</td>\n",
       "    </tr>\n",
       "    <tr>\n",
       "      <th>4</th>\n",
       "      <td>ChIP-seq</td>\n",
       "      <td>Run MACS 1_3_7 on ChiP-Seq</td>\n",
       "    </tr>\n",
       "    <tr>\n",
       "      <th>...</th>\n",
       "      <td>...</td>\n",
       "      <td>...</td>\n",
       "    </tr>\n",
       "    <tr>\n",
       "      <th>229</th>\n",
       "      <td>Workflow utils</td>\n",
       "      <td>Check Workflow consistency</td>\n",
       "    </tr>\n",
       "    <tr>\n",
       "      <th>230</th>\n",
       "      <td>Workflow utils</td>\n",
       "      <td>Copy data element</td>\n",
       "    </tr>\n",
       "    <tr>\n",
       "      <th>231</th>\n",
       "      <td>Workflow utils</td>\n",
       "      <td>Copy folder</td>\n",
       "    </tr>\n",
       "    <tr>\n",
       "      <th>232</th>\n",
       "      <td>Workflow utils</td>\n",
       "      <td>Create folder</td>\n",
       "    </tr>\n",
       "    <tr>\n",
       "      <th>233</th>\n",
       "      <td>Workflow utils</td>\n",
       "      <td>Run a Workflow as Analysis</td>\n",
       "    </tr>\n",
       "  </tbody>\n",
       "</table>\n",
       "<p>234 rows × 2 columns</p>\n",
       "</div>"
      ],
      "text/plain": [
       "              Group                                           Name\n",
       "0          ChIP-seq              ChIP-seq Quality control analysis\n",
       "1          ChIP-seq                          ChIP-seq peak profile\n",
       "2          ChIP-seq                       Quality control analysis\n",
       "3          ChIP-seq  Report generator for quality control analysis\n",
       "4          ChIP-seq                     Run MACS 1_3_7 on ChiP-Seq\n",
       "..              ...                                            ...\n",
       "229  Workflow utils                     Check Workflow consistency\n",
       "230  Workflow utils                              Copy data element\n",
       "231  Workflow utils                                    Copy folder\n",
       "232  Workflow utils                                  Create folder\n",
       "233  Workflow utils                     Run a Workflow as Analysis\n",
       "\n",
       "[234 rows x 2 columns]"
      ]
     },
     "execution_count": 16,
     "metadata": {},
     "output_type": "execute_result"
    }
   ],
   "source": [
    "a_l = my_work.analysis_list()\n",
    "a_l"
   ]
  },
  {
   "cell_type": "code",
   "execution_count": 17,
   "id": "ae493e80",
   "metadata": {},
   "outputs": [
    {
     "data": {
      "text/plain": [
       "array(['ChIP-seq', 'Composite module analyses',\n",
       "       'Differential algebraic equations', 'GATK', 'GTRD',\n",
       "       'Gene set analysis', 'Import', 'Match sites and genes', 'MicroRNA',\n",
       "       'Molecular networks', 'Motif discovery', 'Mutations',\n",
       "       'NGS alignment', 'NGS color-space', 'NGS utils',\n",
       "       'Operations with genomic tracks', 'Parameter fitting',\n",
       "       'Plots and charts', 'RNA-seq', 'Statistics',\n",
       "       'TF binding site search', 'Table manipulation', 'Workflow utils'],\n",
       "      dtype=object)"
      ]
     },
     "execution_count": 17,
     "metadata": {},
     "output_type": "execute_result"
    }
   ],
   "source": [
    "a_l['Group'].unique()"
   ]
  },
  {
   "cell_type": "code",
   "execution_count": 47,
   "id": "6cc57f36",
   "metadata": {},
   "outputs": [
    {
     "data": {
      "text/html": [
       "<div>\n",
       "<style scoped>\n",
       "    .dataframe tbody tr th:only-of-type {\n",
       "        vertical-align: middle;\n",
       "    }\n",
       "\n",
       "    .dataframe tbody tr th {\n",
       "        vertical-align: top;\n",
       "    }\n",
       "\n",
       "    .dataframe thead th {\n",
       "        text-align: right;\n",
       "    }\n",
       "</style>\n",
       "<table border=\"1\" class=\"dataframe\">\n",
       "  <thead>\n",
       "    <tr style=\"text-align: right;\">\n",
       "      <th></th>\n",
       "      <th>Group</th>\n",
       "      <th>Name</th>\n",
       "    </tr>\n",
       "  </thead>\n",
       "  <tbody>\n",
       "    <tr>\n",
       "      <th>213</th>\n",
       "      <td>Table manipulation</td>\n",
       "      <td>Add calculated column</td>\n",
       "    </tr>\n",
       "    <tr>\n",
       "      <th>214</th>\n",
       "      <td>Table manipulation</td>\n",
       "      <td>Annotate table</td>\n",
       "    </tr>\n",
       "    <tr>\n",
       "      <th>215</th>\n",
       "      <td>Table manipulation</td>\n",
       "      <td>Convert table</td>\n",
       "    </tr>\n",
       "    <tr>\n",
       "      <th>216</th>\n",
       "      <td>Table manipulation</td>\n",
       "      <td>Convert table via homology</td>\n",
       "    </tr>\n",
       "    <tr>\n",
       "      <th>217</th>\n",
       "      <td>Table manipulation</td>\n",
       "      <td>Filter duplicate rows</td>\n",
       "    </tr>\n",
       "    <tr>\n",
       "      <th>218</th>\n",
       "      <td>Table manipulation</td>\n",
       "      <td>Filter table</td>\n",
       "    </tr>\n",
       "    <tr>\n",
       "      <th>219</th>\n",
       "      <td>Table manipulation</td>\n",
       "      <td>Group table rows</td>\n",
       "    </tr>\n",
       "    <tr>\n",
       "      <th>220</th>\n",
       "      <td>Table manipulation</td>\n",
       "      <td>Join several tables</td>\n",
       "    </tr>\n",
       "    <tr>\n",
       "      <th>221</th>\n",
       "      <td>Table manipulation</td>\n",
       "      <td>Join two tables</td>\n",
       "    </tr>\n",
       "    <tr>\n",
       "      <th>222</th>\n",
       "      <td>Table manipulation</td>\n",
       "      <td>Merge table columns</td>\n",
       "    </tr>\n",
       "    <tr>\n",
       "      <th>223</th>\n",
       "      <td>Table manipulation</td>\n",
       "      <td>Select random rows</td>\n",
       "    </tr>\n",
       "    <tr>\n",
       "      <th>224</th>\n",
       "      <td>Table manipulation</td>\n",
       "      <td>Select table columns</td>\n",
       "    </tr>\n",
       "    <tr>\n",
       "      <th>225</th>\n",
       "      <td>Table manipulation</td>\n",
       "      <td>Select top rows</td>\n",
       "    </tr>\n",
       "    <tr>\n",
       "      <th>226</th>\n",
       "      <td>Table manipulation</td>\n",
       "      <td>Super annotate table</td>\n",
       "    </tr>\n",
       "    <tr>\n",
       "      <th>227</th>\n",
       "      <td>Table manipulation</td>\n",
       "      <td>Transform table</td>\n",
       "    </tr>\n",
       "  </tbody>\n",
       "</table>\n",
       "</div>"
      ],
      "text/plain": [
       "                  Group                        Name\n",
       "213  Table manipulation       Add calculated column\n",
       "214  Table manipulation              Annotate table\n",
       "215  Table manipulation               Convert table\n",
       "216  Table manipulation  Convert table via homology\n",
       "217  Table manipulation       Filter duplicate rows\n",
       "218  Table manipulation                Filter table\n",
       "219  Table manipulation            Group table rows\n",
       "220  Table manipulation         Join several tables\n",
       "221  Table manipulation             Join two tables\n",
       "222  Table manipulation         Merge table columns\n",
       "223  Table manipulation          Select random rows\n",
       "224  Table manipulation        Select table columns\n",
       "225  Table manipulation             Select top rows\n",
       "226  Table manipulation        Super annotate table\n",
       "227  Table manipulation             Transform table"
      ]
     },
     "execution_count": 47,
     "metadata": {},
     "output_type": "execute_result"
    }
   ],
   "source": [
    "a_l[a_l['Group'] == 'Table manipulation']"
   ]
  },
  {
   "cell_type": "markdown",
   "id": "b9aa1160",
   "metadata": {},
   "source": [
    "Each biouml analysis has a set of parameters, `analysis_parameters` returns a `pandas.DataFrame` with row names corresponding to parameter names and one column 'description'."
   ]
  },
  {
   "cell_type": "code",
   "execution_count": 49,
   "id": "12382e39",
   "metadata": {},
   "outputs": [
    {
     "data": {
      "text/html": [
       "<div>\n",
       "<style scoped>\n",
       "    .dataframe tbody tr th:only-of-type {\n",
       "        vertical-align: middle;\n",
       "    }\n",
       "\n",
       "    .dataframe tbody tr th {\n",
       "        vertical-align: top;\n",
       "    }\n",
       "\n",
       "    .dataframe thead th {\n",
       "        text-align: right;\n",
       "    }\n",
       "</style>\n",
       "<table border=\"1\" class=\"dataframe\">\n",
       "  <thead>\n",
       "    <tr style=\"text-align: right;\">\n",
       "      <th></th>\n",
       "      <th>Name</th>\n",
       "      <th>Description</th>\n",
       "    </tr>\n",
       "  </thead>\n",
       "  <tbody>\n",
       "    <tr>\n",
       "      <th>0</th>\n",
       "      <td>inputPath</td>\n",
       "      <td>Table to filter</td>\n",
       "    </tr>\n",
       "    <tr>\n",
       "      <th>1</th>\n",
       "      <td>filterExpression</td>\n",
       "      <td>Expression in JavaScript like 'ColumnName1 &gt; 5...</td>\n",
       "    </tr>\n",
       "    <tr>\n",
       "      <th>2</th>\n",
       "      <td>filteringMode</td>\n",
       "      <td>Which rows to select</td>\n",
       "    </tr>\n",
       "    <tr>\n",
       "      <th>3</th>\n",
       "      <td>outputPath</td>\n",
       "      <td>Path to the filtered table</td>\n",
       "    </tr>\n",
       "  </tbody>\n",
       "</table>\n",
       "</div>"
      ],
      "text/plain": [
       "               Name                                        Description\n",
       "0         inputPath                                    Table to filter\n",
       "1  filterExpression  Expression in JavaScript like 'ColumnName1 > 5...\n",
       "2     filteringMode                               Which rows to select\n",
       "3        outputPath                         Path to the filtered table"
      ]
     },
     "execution_count": 49,
     "metadata": {},
     "output_type": "execute_result"
    }
   ],
   "source": [
    "my_work.analysis_parameters('Filter table')"
   ]
  },
  {
   "cell_type": "markdown",
   "id": "64fc1ef4",
   "metadata": {},
   "source": [
    "The `analysis` method launches analysis with given parameters."
   ]
  },
  {
   "cell_type": "code",
   "execution_count": 19,
   "id": "d07ea984",
   "metadata": {},
   "outputs": [
    {
     "name": "stdout",
     "output_type": "stream",
     "text": [
      "INFO - Analysis 'Filter table' added to queue\n",
      "INFO - Analysis 'Filter table' started\n",
      "INFO - Filtering...\n",
      "\n",
      "\n",
      "\n",
      "INFO - Writing result...\n",
      "\n",
      "INFO - Analysis 'Filter table' finished (3.968 s)\n",
      "\n",
      "RJOB202202131652562\n"
     ]
    }
   ],
   "source": [
    "my_work.analysis('Filter table', \n",
    "                 parameters={\n",
    "                     'inputPath': 'data/Examples/Optimization/Data/Experiments/exp_data_1', \n",
    "                     'filterExpression': 'time < 40',\n",
    "                     'outputPath': 'data/Collaboration/Demo/Data/pybiouml_test/exp_data_1 filtered'\n",
    "                 }\n",
    "                )"
   ]
  },
  {
   "cell_type": "markdown",
   "id": "ee0b5924",
   "metadata": {},
   "source": [
    "### Importing files to and from BioUML\n",
    "As described previously, `pandas.DataFrame` can be fetched from and stored to BioUML repository using pybiouml `get` and `put` methods. In addition, data can be imported from files and exported to files in various formats. The list of importers can be obtained with `importers` method."
   ]
  },
  {
   "cell_type": "code",
   "execution_count": 58,
   "id": "2d4051ae",
   "metadata": {},
   "outputs": [
    {
     "data": {
      "text/plain": [
       "['BioUML format(*.dml)',\n",
       " 'BioUML Simulation result',\n",
       " 'ZIP-archive (*.zip)',\n",
       " 'Generic file',\n",
       " 'Image file (*.png, *jpeg, *.gif etc)',\n",
       " 'Text file (*.txt)',\n",
       " 'HTML file (*.html, *.htm)',\n",
       " 'SBML',\n",
       " 'SBML(CellDesigner)',\n",
       " 'BioPAX file (*.owl, *.xml)']"
      ]
     },
     "execution_count": 58,
     "metadata": {},
     "output_type": "execute_result"
    }
   ],
   "source": [
    "my_work.importers()[:10]"
   ]
  },
  {
   "cell_type": "markdown",
   "id": "8f866966",
   "metadata": {},
   "source": [
    "As an example we will import fasta file to BioUML. This fasta file can be downloaded from our [github](https://github.com/Biosoft-ru/pybiouml)"
   ]
  },
  {
   "cell_type": "code",
   "execution_count": 20,
   "id": "7c034264",
   "metadata": {},
   "outputs": [
    {
     "name": "stdout",
     "output_type": "stream",
     "text": [
      "\n",
      "\n",
      "data/Collaboration/Demo/Data/pybiouml_test/hiv1\n"
     ]
    },
    {
     "data": {
      "text/plain": [
       "'data/Collaboration/Demo/Data/pybiouml_test/hiv1'"
      ]
     },
     "execution_count": 20,
     "metadata": {},
     "output_type": "execute_result"
    }
   ],
   "source": [
    "fasta = 'hiv1.fna'\n",
    "out = 'data/Collaboration/Demo/Data/pybiouml_test'\n",
    "my_work.to_import(fasta, out, importer='Fasta format (*.fasta)')\n",
    "    "
   ]
  },
  {
   "cell_type": "code",
   "execution_count": 21,
   "id": "bf4b5254",
   "metadata": {},
   "outputs": [
    {
     "data": {
      "text/html": [
       "<div>\n",
       "<style scoped>\n",
       "    .dataframe tbody tr th:only-of-type {\n",
       "        vertical-align: middle;\n",
       "    }\n",
       "\n",
       "    .dataframe tbody tr th {\n",
       "        vertical-align: top;\n",
       "    }\n",
       "\n",
       "    .dataframe thead th {\n",
       "        text-align: right;\n",
       "    }\n",
       "</style>\n",
       "<table border=\"1\" class=\"dataframe\">\n",
       "  <thead>\n",
       "    <tr style=\"text-align: right;\">\n",
       "      <th></th>\n",
       "      <th>name</th>\n",
       "      <th>hasChildren</th>\n",
       "      <th>class</th>\n",
       "    </tr>\n",
       "  </thead>\n",
       "  <tbody>\n",
       "    <tr>\n",
       "      <th>0</th>\n",
       "      <td>exp_1_pybiouml</td>\n",
       "      <td>False</td>\n",
       "      <td>0</td>\n",
       "    </tr>\n",
       "    <tr>\n",
       "      <th>1</th>\n",
       "      <td>exp_data_1 filtered</td>\n",
       "      <td>False</td>\n",
       "      <td>0</td>\n",
       "    </tr>\n",
       "    <tr>\n",
       "      <th>2</th>\n",
       "      <td>hiv1</td>\n",
       "      <td>True</td>\n",
       "      <td>1</td>\n",
       "    </tr>\n",
       "  </tbody>\n",
       "</table>\n",
       "</div>"
      ],
      "text/plain": [
       "                  name  hasChildren  class\n",
       "0       exp_1_pybiouml        False      0\n",
       "1  exp_data_1 filtered        False      0\n",
       "2                 hiv1         True      1"
      ]
     },
     "execution_count": 21,
     "metadata": {},
     "output_type": "execute_result"
    }
   ],
   "source": [
    "my_work.ls(out)"
   ]
  },
  {
   "cell_type": "markdown",
   "id": "3ed9396b",
   "metadata": {},
   "source": [
    "Similarly, we can use `export` method to export data from BioUML repository."
   ]
  },
  {
   "cell_type": "code",
   "execution_count": 22,
   "id": "4613cba6",
   "metadata": {},
   "outputs": [
    {
     "data": {
      "text/plain": [
       "['JPEG file (*.jpg)',\n",
       " 'Bitmap file(*.bmp)',\n",
       " 'Portable Network Graphics (*.png)',\n",
       " 'BioUML format(*.dml)',\n",
       " 'BioUML state (*.xml)',\n",
       " 'Pair graph file(*.txt)',\n",
       " 'Archive containing exported elements (*.zip)',\n",
       " 'Generic file',\n",
       " 'Zipped HTML file',\n",
       " 'SBML',\n",
       " 'BioPAX (*.owl)',\n",
       " 'FASTA sequences (*.fasta)',\n",
       " 'BED format (*.bed)',\n",
       " 'Interval format (*.interval)',\n",
       " 'General Feature Format (*.gff)',\n",
       " 'Gene Transfer Format (*.gtf)',\n",
       " 'Match format (*.match)',\n",
       " 'Variant Call Format (*.vcf)',\n",
       " 'Wiggle format (*.wig)',\n",
       " 'SAM or BAM alignment file (*.sam, *.bam)',\n",
       " 'ZHTML document (*.zhtml)',\n",
       " 'SDF file (*.sdf)',\n",
       " 'GraphML(*.graphml)',\n",
       " 'Scalable Vector Graphics(*.svg)',\n",
       " 'SBGN-ML',\n",
       " 'COMBINE archive (*.omex)',\n",
       " 'BioNetGen language format (*.bngl)',\n",
       " 'Cytoscape (*.cx)',\n",
       " 'Antimony',\n",
       " 'Tab-separated text (*.txt)',\n",
       " 'Comma-separated values (*.csv)',\n",
       " 'HTML document (*.html)']"
      ]
     },
     "execution_count": 22,
     "metadata": {},
     "output_type": "execute_result"
    }
   ],
   "source": [
    "my_work.exporters()"
   ]
  },
  {
   "cell_type": "code",
   "execution_count": 24,
   "id": "0e009a9e",
   "metadata": {},
   "outputs": [],
   "source": [
    "my_work.export('data/Collaboration/Demo/Data/pybiouml_test/hiv1.fa', \n",
    "               exporter='Fasta format (*.fasta)', \n",
    "               target_file='downloaded_hiv1.fa'\n",
    "              )"
   ]
  },
  {
   "cell_type": "code",
   "execution_count": 1,
   "id": "64b900ae",
   "metadata": {},
   "outputs": [
    {
     "data": {
      "text/plain": [
       "['.ipynb_checkpoints', 'downloaded_hiv1.fa', 'hiv1.fna', 'Use_cases.ipynb']"
      ]
     },
     "execution_count": 1,
     "metadata": {},
     "output_type": "execute_result"
    }
   ],
   "source": [
    "import os\n",
    "os.listdir()"
   ]
  },
  {
   "cell_type": "code",
   "execution_count": null,
   "id": "91990430",
   "metadata": {},
   "outputs": [],
   "source": []
  }
 ],
 "metadata": {
  "kernelspec": {
   "display_name": "test_biouml",
   "language": "python",
   "name": "test_biouml"
  },
  "language_info": {
   "codemirror_mode": {
    "name": "ipython",
    "version": 3
   },
   "file_extension": ".py",
   "mimetype": "text/x-python",
   "name": "python",
   "nbconvert_exporter": "python",
   "pygments_lexer": "ipython3",
   "version": "3.8.5"
  }
 },
 "nbformat": 4,
 "nbformat_minor": 5
}
